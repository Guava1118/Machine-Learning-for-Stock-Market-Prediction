{
 "cells": [
  {
   "cell_type": "code",
   "execution_count": 111,
   "metadata": {},
   "outputs": [
    {
     "name": "stdout",
     "output_type": "stream",
     "text": [
      "<class 'pandas.core.frame.DataFrame'>\n",
      "RangeIndex: 4764 entries, 0 to 4763\n",
      "Data columns (total 7 columns):\n",
      " #   Column     Non-Null Count  Dtype  \n",
      "---  ------     --------------  -----  \n",
      " 0   Date       4764 non-null   object \n",
      " 1   Open       4764 non-null   float64\n",
      " 2   High       4764 non-null   float64\n",
      " 3   Low        4764 non-null   float64\n",
      " 4   Close      4764 non-null   float64\n",
      " 5   Adj Close  4764 non-null   float64\n",
      " 6   Volume     4764 non-null   int64  \n",
      "dtypes: float64(5), int64(1), object(1)\n",
      "memory usage: 260.7+ KB\n"
     ]
    }
   ],
   "source": [
    "import pandas as pd\n",
    "sp500 = pd.read_csv('S&P500-18y.csv')\n",
    "sp500.info()"
   ]
  },
  {
   "cell_type": "code",
   "execution_count": 112,
   "metadata": {},
   "outputs": [],
   "source": [
    "sp500['Date'] = pd.to_datetime(sp500['Date'])\n",
    "# add change percentage column\n",
    "# Change Pct = (Close price ((N+1)th Trade day) - Close price (Nth Trade day)) / Close price (Nth Trade day)\n",
    "def add_change_pct():\n",
    "    for i in range(len(sp500)-1):\n",
    "        value = (sp500.at[i,'Close'] - sp500.at[i+1,'Close']) / sp500.at[i+1,'Close']\n",
    "        sp500.at[i,'Change Pct'] = value*100\n",
    "\n",
    "add_change_pct()\n",
    "sp500.at[4763,'Change Pct'] = sp500.at[4762,'Change Pct']"
   ]
  },
  {
   "cell_type": "code",
   "execution_count": 113,
   "metadata": {},
   "outputs": [
    {
     "data": {
      "text/html": [
       "<div>\n",
       "<style scoped>\n",
       "    .dataframe tbody tr th:only-of-type {\n",
       "        vertical-align: middle;\n",
       "    }\n",
       "\n",
       "    .dataframe tbody tr th {\n",
       "        vertical-align: top;\n",
       "    }\n",
       "\n",
       "    .dataframe thead th {\n",
       "        text-align: right;\n",
       "    }\n",
       "</style>\n",
       "<table border=\"1\" class=\"dataframe\">\n",
       "  <thead>\n",
       "    <tr style=\"text-align: right;\">\n",
       "      <th></th>\n",
       "      <th>Open</th>\n",
       "      <th>High</th>\n",
       "      <th>Low</th>\n",
       "      <th>Close</th>\n",
       "      <th>Adj Close</th>\n",
       "      <th>Volume</th>\n",
       "      <th>Change Pct</th>\n",
       "    </tr>\n",
       "  </thead>\n",
       "  <tbody>\n",
       "    <tr>\n",
       "      <th>count</th>\n",
       "      <td>4764.000000</td>\n",
       "      <td>4764.000000</td>\n",
       "      <td>4764.000000</td>\n",
       "      <td>4764.000000</td>\n",
       "      <td>4764.000000</td>\n",
       "      <td>4.764000e+03</td>\n",
       "      <td>4764.000000</td>\n",
       "    </tr>\n",
       "    <tr>\n",
       "      <th>mean</th>\n",
       "      <td>1501.071210</td>\n",
       "      <td>1509.737119</td>\n",
       "      <td>1491.676040</td>\n",
       "      <td>1501.206245</td>\n",
       "      <td>1501.206245</td>\n",
       "      <td>3.063913e+09</td>\n",
       "      <td>0.018893</td>\n",
       "    </tr>\n",
       "    <tr>\n",
       "      <th>std</th>\n",
       "      <td>508.199196</td>\n",
       "      <td>508.576792</td>\n",
       "      <td>507.670336</td>\n",
       "      <td>508.191345</td>\n",
       "      <td>508.191345</td>\n",
       "      <td>1.502298e+09</td>\n",
       "      <td>1.204978</td>\n",
       "    </tr>\n",
       "    <tr>\n",
       "      <th>min</th>\n",
       "      <td>679.280029</td>\n",
       "      <td>695.270020</td>\n",
       "      <td>666.789978</td>\n",
       "      <td>676.530029</td>\n",
       "      <td>676.530029</td>\n",
       "      <td>3.560700e+08</td>\n",
       "      <td>-9.034978</td>\n",
       "    </tr>\n",
       "    <tr>\n",
       "      <th>25%</th>\n",
       "      <td>1141.990051</td>\n",
       "      <td>1148.915039</td>\n",
       "      <td>1134.349975</td>\n",
       "      <td>1141.780029</td>\n",
       "      <td>1141.780029</td>\n",
       "      <td>1.610075e+09</td>\n",
       "      <td>-0.483281</td>\n",
       "    </tr>\n",
       "    <tr>\n",
       "      <th>50%</th>\n",
       "      <td>1335.879944</td>\n",
       "      <td>1344.254944</td>\n",
       "      <td>1327.209961</td>\n",
       "      <td>1335.369995</td>\n",
       "      <td>1335.369995</td>\n",
       "      <td>3.169310e+09</td>\n",
       "      <td>0.051055</td>\n",
       "    </tr>\n",
       "    <tr>\n",
       "      <th>75%</th>\n",
       "      <td>1852.242493</td>\n",
       "      <td>1866.952515</td>\n",
       "      <td>1841.217499</td>\n",
       "      <td>1852.780030</td>\n",
       "      <td>1852.780030</td>\n",
       "      <td>3.926060e+09</td>\n",
       "      <td>0.565897</td>\n",
       "    </tr>\n",
       "    <tr>\n",
       "      <th>max</th>\n",
       "      <td>2936.760010</td>\n",
       "      <td>2940.909912</td>\n",
       "      <td>2927.110107</td>\n",
       "      <td>2930.750000</td>\n",
       "      <td>2930.750000</td>\n",
       "      <td>1.145623e+10</td>\n",
       "      <td>11.580037</td>\n",
       "    </tr>\n",
       "  </tbody>\n",
       "</table>\n",
       "</div>"
      ],
      "text/plain": [
       "              Open         High          Low        Close    Adj Close  \\\n",
       "count  4764.000000  4764.000000  4764.000000  4764.000000  4764.000000   \n",
       "mean   1501.071210  1509.737119  1491.676040  1501.206245  1501.206245   \n",
       "std     508.199196   508.576792   507.670336   508.191345   508.191345   \n",
       "min     679.280029   695.270020   666.789978   676.530029   676.530029   \n",
       "25%    1141.990051  1148.915039  1134.349975  1141.780029  1141.780029   \n",
       "50%    1335.879944  1344.254944  1327.209961  1335.369995  1335.369995   \n",
       "75%    1852.242493  1866.952515  1841.217499  1852.780030  1852.780030   \n",
       "max    2936.760010  2940.909912  2927.110107  2930.750000  2930.750000   \n",
       "\n",
       "             Volume   Change Pct  \n",
       "count  4.764000e+03  4764.000000  \n",
       "mean   3.063913e+09     0.018893  \n",
       "std    1.502298e+09     1.204978  \n",
       "min    3.560700e+08    -9.034978  \n",
       "25%    1.610075e+09    -0.483281  \n",
       "50%    3.169310e+09     0.051055  \n",
       "75%    3.926060e+09     0.565897  \n",
       "max    1.145623e+10    11.580037  "
      ]
     },
     "execution_count": 113,
     "metadata": {},
     "output_type": "execute_result"
    }
   ],
   "source": [
    "sp500.describe()\n",
    "# No outliers found"
   ]
  },
  {
   "cell_type": "code",
   "execution_count": 114,
   "metadata": {},
   "outputs": [],
   "source": [
    "# Sort the data frame by date \n",
    "sp500.sort_values(by='Date',inplace=True)\n",
    "sp500 = sp500.reset_index(drop=True)"
   ]
  },
  {
   "cell_type": "code",
   "execution_count": 115,
   "metadata": {},
   "outputs": [
    {
     "data": {
      "text/html": [
       "<div>\n",
       "<style scoped>\n",
       "    .dataframe tbody tr th:only-of-type {\n",
       "        vertical-align: middle;\n",
       "    }\n",
       "\n",
       "    .dataframe tbody tr th {\n",
       "        vertical-align: top;\n",
       "    }\n",
       "\n",
       "    .dataframe thead th {\n",
       "        text-align: right;\n",
       "    }\n",
       "</style>\n",
       "<table border=\"1\" class=\"dataframe\">\n",
       "  <thead>\n",
       "    <tr style=\"text-align: right;\">\n",
       "      <th></th>\n",
       "      <th>Date</th>\n",
       "      <th>Open</th>\n",
       "      <th>High</th>\n",
       "      <th>Low</th>\n",
       "      <th>Close</th>\n",
       "      <th>Adj Close</th>\n",
       "      <th>Volume</th>\n",
       "      <th>Change Pct</th>\n",
       "    </tr>\n",
       "  </thead>\n",
       "  <tbody>\n",
       "    <tr>\n",
       "      <th>0</th>\n",
       "      <td>2000-01-03</td>\n",
       "      <td>1469.250000</td>\n",
       "      <td>1478.000000</td>\n",
       "      <td>1438.359985</td>\n",
       "      <td>1455.219971</td>\n",
       "      <td>1455.219971</td>\n",
       "      <td>931800000</td>\n",
       "      <td>-3.834467</td>\n",
       "    </tr>\n",
       "    <tr>\n",
       "      <th>1</th>\n",
       "      <td>2000-01-04</td>\n",
       "      <td>1455.219971</td>\n",
       "      <td>1455.219971</td>\n",
       "      <td>1397.430054</td>\n",
       "      <td>1399.420044</td>\n",
       "      <td>1399.420044</td>\n",
       "      <td>1009000000</td>\n",
       "      <td>-3.834467</td>\n",
       "    </tr>\n",
       "    <tr>\n",
       "      <th>2</th>\n",
       "      <td>2000-01-05</td>\n",
       "      <td>1399.420044</td>\n",
       "      <td>1413.270020</td>\n",
       "      <td>1377.680054</td>\n",
       "      <td>1402.109985</td>\n",
       "      <td>1402.109985</td>\n",
       "      <td>1085500000</td>\n",
       "      <td>0.192218</td>\n",
       "    </tr>\n",
       "    <tr>\n",
       "      <th>3</th>\n",
       "      <td>2000-01-06</td>\n",
       "      <td>1402.109985</td>\n",
       "      <td>1411.900024</td>\n",
       "      <td>1392.099976</td>\n",
       "      <td>1403.449951</td>\n",
       "      <td>1403.449951</td>\n",
       "      <td>1092300000</td>\n",
       "      <td>0.095568</td>\n",
       "    </tr>\n",
       "    <tr>\n",
       "      <th>4</th>\n",
       "      <td>2000-01-07</td>\n",
       "      <td>1403.449951</td>\n",
       "      <td>1441.469971</td>\n",
       "      <td>1400.729980</td>\n",
       "      <td>1441.469971</td>\n",
       "      <td>1441.469971</td>\n",
       "      <td>1225200000</td>\n",
       "      <td>2.709040</td>\n",
       "    </tr>\n",
       "    <tr>\n",
       "      <th>...</th>\n",
       "      <td>...</td>\n",
       "      <td>...</td>\n",
       "      <td>...</td>\n",
       "      <td>...</td>\n",
       "      <td>...</td>\n",
       "      <td>...</td>\n",
       "      <td>...</td>\n",
       "      <td>...</td>\n",
       "    </tr>\n",
       "    <tr>\n",
       "      <th>4759</th>\n",
       "      <td>2018-11-30</td>\n",
       "      <td>2737.760010</td>\n",
       "      <td>2760.879883</td>\n",
       "      <td>2732.760010</td>\n",
       "      <td>2760.169922</td>\n",
       "      <td>2760.169922</td>\n",
       "      <td>4658580000</td>\n",
       "      <td>0.817075</td>\n",
       "    </tr>\n",
       "    <tr>\n",
       "      <th>4760</th>\n",
       "      <td>2018-12-03</td>\n",
       "      <td>2790.500000</td>\n",
       "      <td>2800.179932</td>\n",
       "      <td>2773.379883</td>\n",
       "      <td>2790.370117</td>\n",
       "      <td>2790.370117</td>\n",
       "      <td>4186060000</td>\n",
       "      <td>1.094143</td>\n",
       "    </tr>\n",
       "    <tr>\n",
       "      <th>4761</th>\n",
       "      <td>2018-12-04</td>\n",
       "      <td>2782.429932</td>\n",
       "      <td>2785.929932</td>\n",
       "      <td>2697.179932</td>\n",
       "      <td>2700.060059</td>\n",
       "      <td>2700.060059</td>\n",
       "      <td>4499840000</td>\n",
       "      <td>-3.236490</td>\n",
       "    </tr>\n",
       "    <tr>\n",
       "      <th>4762</th>\n",
       "      <td>2018-12-06</td>\n",
       "      <td>2663.510010</td>\n",
       "      <td>2696.149902</td>\n",
       "      <td>2621.530029</td>\n",
       "      <td>2695.949951</td>\n",
       "      <td>2695.949951</td>\n",
       "      <td>5141470000</td>\n",
       "      <td>-0.152223</td>\n",
       "    </tr>\n",
       "    <tr>\n",
       "      <th>4763</th>\n",
       "      <td>2018-12-07</td>\n",
       "      <td>2691.260010</td>\n",
       "      <td>2708.540039</td>\n",
       "      <td>2623.139893</td>\n",
       "      <td>2633.080078</td>\n",
       "      <td>2633.080078</td>\n",
       "      <td>4216690000</td>\n",
       "      <td>-2.332012</td>\n",
       "    </tr>\n",
       "  </tbody>\n",
       "</table>\n",
       "<p>4764 rows × 8 columns</p>\n",
       "</div>"
      ],
      "text/plain": [
       "           Date         Open         High          Low        Close  \\\n",
       "0    2000-01-03  1469.250000  1478.000000  1438.359985  1455.219971   \n",
       "1    2000-01-04  1455.219971  1455.219971  1397.430054  1399.420044   \n",
       "2    2000-01-05  1399.420044  1413.270020  1377.680054  1402.109985   \n",
       "3    2000-01-06  1402.109985  1411.900024  1392.099976  1403.449951   \n",
       "4    2000-01-07  1403.449951  1441.469971  1400.729980  1441.469971   \n",
       "...         ...          ...          ...          ...          ...   \n",
       "4759 2018-11-30  2737.760010  2760.879883  2732.760010  2760.169922   \n",
       "4760 2018-12-03  2790.500000  2800.179932  2773.379883  2790.370117   \n",
       "4761 2018-12-04  2782.429932  2785.929932  2697.179932  2700.060059   \n",
       "4762 2018-12-06  2663.510010  2696.149902  2621.530029  2695.949951   \n",
       "4763 2018-12-07  2691.260010  2708.540039  2623.139893  2633.080078   \n",
       "\n",
       "        Adj Close      Volume  Change Pct  \n",
       "0     1455.219971   931800000   -3.834467  \n",
       "1     1399.420044  1009000000   -3.834467  \n",
       "2     1402.109985  1085500000    0.192218  \n",
       "3     1403.449951  1092300000    0.095568  \n",
       "4     1441.469971  1225200000    2.709040  \n",
       "...           ...         ...         ...  \n",
       "4759  2760.169922  4658580000    0.817075  \n",
       "4760  2790.370117  4186060000    1.094143  \n",
       "4761  2700.060059  4499840000   -3.236490  \n",
       "4762  2695.949951  5141470000   -0.152223  \n",
       "4763  2633.080078  4216690000   -2.332012  \n",
       "\n",
       "[4764 rows x 8 columns]"
      ]
     },
     "execution_count": 115,
     "metadata": {},
     "output_type": "execute_result"
    }
   ],
   "source": [
    "sp500"
   ]
  },
  {
   "cell_type": "code",
   "execution_count": 116,
   "metadata": {},
   "outputs": [
    {
     "data": {
      "image/png": "[encoded data removed]",
      "text/plain": [
       "<Figure size 864x432 with 1 Axes>"
      ]
     },
     "metadata": {
      "needs_background": "light"
     },
     "output_type": "display_data"
    }
   ],
   "source": [
    "import matplotlib.pyplot as plt\n",
    "import matplotlib.dates as mdates\n",
    "plt.figure(figsize=(12,6))\n",
    "plt.plot(sp500['Date'],sp500['Close'])\n",
    "plt.gca().xaxis.set_major_formatter(mdates.DateFormatter('%y-%m-%d'))\n",
    "plt.xticks(rotation=-20)\n",
    "plt.show()"
   ]
  },
  {
   "cell_type": "code",
   "execution_count": 117,
   "metadata": {},
   "outputs": [
    {
     "data": {
      "text/html": [
       "<div>\n",
       "<style scoped>\n",
       "    .dataframe tbody tr th:only-of-type {\n",
       "        vertical-align: middle;\n",
       "    }\n",
       "\n",
       "    .dataframe tbody tr th {\n",
       "        vertical-align: top;\n",
       "    }\n",
       "\n",
       "    .dataframe thead th {\n",
       "        text-align: right;\n",
       "    }\n",
       "</style>\n",
       "<table border=\"1\" class=\"dataframe\">\n",
       "  <thead>\n",
       "    <tr style=\"text-align: right;\">\n",
       "      <th></th>\n",
       "      <th>Close</th>\n",
       "      <th>Adj Close</th>\n",
       "      <th>Open</th>\n",
       "      <th>High</th>\n",
       "      <th>Low</th>\n",
       "      <th>Volume</th>\n",
       "      <th>Change Pct</th>\n",
       "    </tr>\n",
       "  </thead>\n",
       "  <tbody>\n",
       "    <tr>\n",
       "      <th>0</th>\n",
       "      <td>1455.219971</td>\n",
       "      <td>1455.219971</td>\n",
       "      <td>1469.250000</td>\n",
       "      <td>1478.000000</td>\n",
       "      <td>1438.359985</td>\n",
       "      <td>931800000</td>\n",
       "      <td>-3.834467</td>\n",
       "    </tr>\n",
       "    <tr>\n",
       "      <th>1</th>\n",
       "      <td>1399.420044</td>\n",
       "      <td>1399.420044</td>\n",
       "      <td>1455.219971</td>\n",
       "      <td>1455.219971</td>\n",
       "      <td>1397.430054</td>\n",
       "      <td>1009000000</td>\n",
       "      <td>-3.834467</td>\n",
       "    </tr>\n",
       "    <tr>\n",
       "      <th>2</th>\n",
       "      <td>1402.109985</td>\n",
       "      <td>1402.109985</td>\n",
       "      <td>1399.420044</td>\n",
       "      <td>1413.270020</td>\n",
       "      <td>1377.680054</td>\n",
       "      <td>1085500000</td>\n",
       "      <td>0.192218</td>\n",
       "    </tr>\n",
       "    <tr>\n",
       "      <th>3</th>\n",
       "      <td>1403.449951</td>\n",
       "      <td>1403.449951</td>\n",
       "      <td>1402.109985</td>\n",
       "      <td>1411.900024</td>\n",
       "      <td>1392.099976</td>\n",
       "      <td>1092300000</td>\n",
       "      <td>0.095568</td>\n",
       "    </tr>\n",
       "    <tr>\n",
       "      <th>4</th>\n",
       "      <td>1441.469971</td>\n",
       "      <td>1441.469971</td>\n",
       "      <td>1403.449951</td>\n",
       "      <td>1441.469971</td>\n",
       "      <td>1400.729980</td>\n",
       "      <td>1225200000</td>\n",
       "      <td>2.709040</td>\n",
       "    </tr>\n",
       "    <tr>\n",
       "      <th>...</th>\n",
       "      <td>...</td>\n",
       "      <td>...</td>\n",
       "      <td>...</td>\n",
       "      <td>...</td>\n",
       "      <td>...</td>\n",
       "      <td>...</td>\n",
       "      <td>...</td>\n",
       "    </tr>\n",
       "    <tr>\n",
       "      <th>4759</th>\n",
       "      <td>2760.169922</td>\n",
       "      <td>2760.169922</td>\n",
       "      <td>2737.760010</td>\n",
       "      <td>2760.879883</td>\n",
       "      <td>2732.760010</td>\n",
       "      <td>4658580000</td>\n",
       "      <td>0.817075</td>\n",
       "    </tr>\n",
       "    <tr>\n",
       "      <th>4760</th>\n",
       "      <td>2790.370117</td>\n",
       "      <td>2790.370117</td>\n",
       "      <td>2790.500000</td>\n",
       "      <td>2800.179932</td>\n",
       "      <td>2773.379883</td>\n",
       "      <td>4186060000</td>\n",
       "      <td>1.094143</td>\n",
       "    </tr>\n",
       "    <tr>\n",
       "      <th>4761</th>\n",
       "      <td>2700.060059</td>\n",
       "      <td>2700.060059</td>\n",
       "      <td>2782.429932</td>\n",
       "      <td>2785.929932</td>\n",
       "      <td>2697.179932</td>\n",
       "      <td>4499840000</td>\n",
       "      <td>-3.236490</td>\n",
       "    </tr>\n",
       "    <tr>\n",
       "      <th>4762</th>\n",
       "      <td>2695.949951</td>\n",
       "      <td>2695.949951</td>\n",
       "      <td>2663.510010</td>\n",
       "      <td>2696.149902</td>\n",
       "      <td>2621.530029</td>\n",
       "      <td>5141470000</td>\n",
       "      <td>-0.152223</td>\n",
       "    </tr>\n",
       "    <tr>\n",
       "      <th>4763</th>\n",
       "      <td>2633.080078</td>\n",
       "      <td>2633.080078</td>\n",
       "      <td>2691.260010</td>\n",
       "      <td>2708.540039</td>\n",
       "      <td>2623.139893</td>\n",
       "      <td>4216690000</td>\n",
       "      <td>-2.332012</td>\n",
       "    </tr>\n",
       "  </tbody>\n",
       "</table>\n",
       "<p>4764 rows × 7 columns</p>\n",
       "</div>"
      ],
      "text/plain": [
       "            Close    Adj Close         Open         High          Low  \\\n",
       "0     1455.219971  1455.219971  1469.250000  1478.000000  1438.359985   \n",
       "1     1399.420044  1399.420044  1455.219971  1455.219971  1397.430054   \n",
       "2     1402.109985  1402.109985  1399.420044  1413.270020  1377.680054   \n",
       "3     1403.449951  1403.449951  1402.109985  1411.900024  1392.099976   \n",
       "4     1441.469971  1441.469971  1403.449951  1441.469971  1400.729980   \n",
       "...           ...          ...          ...          ...          ...   \n",
       "4759  2760.169922  2760.169922  2737.760010  2760.879883  2732.760010   \n",
       "4760  2790.370117  2790.370117  2790.500000  2800.179932  2773.379883   \n",
       "4761  2700.060059  2700.060059  2782.429932  2785.929932  2697.179932   \n",
       "4762  2695.949951  2695.949951  2663.510010  2696.149902  2621.530029   \n",
       "4763  2633.080078  2633.080078  2691.260010  2708.540039  2623.139893   \n",
       "\n",
       "          Volume  Change Pct  \n",
       "0      931800000   -3.834467  \n",
       "1     1009000000   -3.834467  \n",
       "2     1085500000    0.192218  \n",
       "3     1092300000    0.095568  \n",
       "4     1225200000    2.709040  \n",
       "...          ...         ...  \n",
       "4759  4658580000    0.817075  \n",
       "4760  4186060000    1.094143  \n",
       "4761  4499840000   -3.236490  \n",
       "4762  5141470000   -0.152223  \n",
       "4763  4216690000   -2.332012  \n",
       "\n",
       "[4764 rows x 7 columns]"
      ]
     },
     "execution_count": 117,
     "metadata": {},
     "output_type": "execute_result"
    }
   ],
   "source": [
    "# copy the dataset\n",
    "sp = sp500[['Close','Adj Close','Open','High','Low','Volume','Change Pct']]\n",
    "sp"
   ]
  },
  {
   "cell_type": "code",
   "execution_count": 118,
   "metadata": {},
   "outputs": [
    {
     "name": "stdout",
     "output_type": "stream",
     "text": [
      "[[0.34543654 0.34543654 0.34993443 ... 0.34135431 0.05186682 0.25226812]\n",
      " [0.320683   0.320683   0.34371952 ... 0.32324628 0.05882167 0.25226812]\n",
      " [0.32187629 0.32187629 0.31900173 ... 0.31450858 0.06571347 0.4475959 ]\n",
      " ...\n",
      " [0.89766307 0.89766307 0.93163613 ... 0.89827539 0.37330723 0.28127496]\n",
      " [0.89583978 0.89583978 0.87895795 ... 0.86480673 0.4311109  0.43088764]\n",
      " [0.86794992 0.86794992 0.89125042 ... 0.86551895 0.34779859 0.3251497 ]]\n"
     ]
    }
   ],
   "source": [
    "# data normalization\n",
    "from sklearn.preprocessing import MinMaxScaler\n",
    "scaler = MinMaxScaler(feature_range=(0, 1))\n",
    "\n",
    "norm = scaler.fit_transform(sp)\n",
    "print(norm)"
   ]
  },
  {
   "cell_type": "code",
   "execution_count": 119,
   "metadata": {},
   "outputs": [],
   "source": [
    "# divide S&P500 index dataset 4764*0.8 = 3811.2\n",
    "train_norm = norm[0:3810]\n",
    "test_norm = norm[3810:]"
   ]
  },
  {
   "cell_type": "code",
   "execution_count": 120,
   "metadata": {},
   "outputs": [
    {
     "name": "stdout",
     "output_type": "stream",
     "text": [
      "X_train: (3760, 50, 7)\n",
      "X_test: (904, 50, 7)\n",
      "y_train: (3760,)\n",
      "y_test: (904,)\n"
     ]
    }
   ],
   "source": [
    "# divide data into 30/50 rows per input\n",
    "timestamp = 50\n",
    "\n",
    "X_train, y_train = [], []\n",
    "X_test, y_test = [], []\n",
    "\n",
    "for i in range(timestamp, len(train_norm)):\n",
    "    X_train.append(train_norm[i - timestamp:i])\n",
    "    y_train.append(train_norm[i,0])\n",
    "    \n",
    "for i in range(timestamp, len(test_norm)):\n",
    "    X_test.append(test_norm[i - timestamp:i])\n",
    "    y_test.append(test_norm[i,0])\n",
    "\n",
    "import numpy as np\n",
    "X_train, y_train = np.array(X_train), np.array(y_train)\n",
    "X_test, y_test = np.array(X_test), np.array(y_test)\n",
    "\n",
    "\n",
    "print('X_train:',X_train.shape)\n",
    "print('X_test:',X_test.shape)\n",
    "print('y_train:',y_train.shape)\n",
    "print('y_test:',y_test.shape)"
   ]
  },
  {
   "cell_type": "code",
   "execution_count": 121,
   "metadata": {},
   "outputs": [
    {
     "data": {
      "text/plain": [
       "array([0.31745349, 0.34687828, 0.34953995, ..., 0.63575423, 0.63833608,\n",
       "       0.63761749])"
      ]
     },
     "execution_count": 121,
     "metadata": {},
     "output_type": "execute_result"
    }
   ],
   "source": [
    "y_train"
   ]
  },
  {
   "cell_type": "code",
   "execution_count": 122,
   "metadata": {},
   "outputs": [],
   "source": [
    "# data prediction\n",
    "from keras import Input\n",
    "from keras.models import Sequential, Model\n",
    "from keras.layers import SimpleRNN, LSTM, Dense, Dropout, Activation, Reshape   \n",
    "\n",
    "epochs = 15\n",
    "\n",
    "# iteration number of batches\n",
    "batch_size = 20\n",
    "\n",
    "input_dim = X_train.shape[-1]\n",
    "output_dim = 1\n",
    "units = 30\n",
    "timesteps = 50"
   ]
  },
  {
   "cell_type": "code",
   "execution_count": 123,
   "metadata": {},
   "outputs": [],
   "source": [
    "import time"
   ]
  },
  {
   "cell_type": "code",
   "execution_count": 148,
   "metadata": {},
   "outputs": [
    {
     "name": "stdout",
     "output_type": "stream",
     "text": [
      "Epoch 1/15\n",
      "3760/3760 [==============================] - 2s 558us/step - loss: 0.0042\n",
      "Epoch 2/15\n",
      "3760/3760 [==============================] - 1s 234us/step - loss: 2.3526e-04\n",
      "Epoch 3/15\n",
      "3760/3760 [==============================] - 1s 234us/step - loss: 1.3993e-04\n",
      "Epoch 4/15\n",
      "3760/3760 [==============================] - 1s 235us/step - loss: 9.9932e-05\n",
      "Epoch 5/15\n",
      "3760/3760 [==============================] - 1s 236us/step - loss: 8.2661e-05\n",
      "Epoch 6/15\n",
      "3760/3760 [==============================] - 1s 233us/step - loss: 6.8972e-05\n",
      "Epoch 7/15\n",
      "3760/3760 [==============================] - 1s 246us/step - loss: 6.3908e-05\n",
      "Epoch 8/15\n",
      "3760/3760 [==============================] - 1s 237us/step - loss: 5.9675e-05\n",
      "Epoch 9/15\n",
      "3760/3760 [==============================] - 1s 238us/step - loss: 5.7793e-05\n",
      "Epoch 10/15\n",
      "3760/3760 [==============================] - 1s 236us/step - loss: 5.5643e-05\n",
      "Epoch 11/15\n",
      "3760/3760 [==============================] - 1s 238us/step - loss: 5.5443e-05\n",
      "Epoch 12/15\n",
      "3760/3760 [==============================] - 1s 240us/step - loss: 5.1101e-05\n",
      "Epoch 13/15\n",
      "3760/3760 [==============================] - 1s 237us/step - loss: 5.0112e-05\n",
      "Epoch 14/15\n",
      "3760/3760 [==============================] - 1s 235us/step - loss: 5.2434e-05\n",
      "Epoch 15/15\n",
      "3760/3760 [==============================] - 1s 236us/step - loss: 4.9617e-05\n"
     ]
    }
   ],
   "source": [
    "'''RNN'''\n",
    "rnn_start = time.time()\n",
    "\n",
    "input_layer = Input(shape=(timesteps, input_dim))\n",
    "rnn_output = SimpleRNN(units, activation='relu')(input_layer)\n",
    "# rnn_hidden_layer = Dense(128)(rnn_output)\n",
    "output_layer = Dense(output_dim)(rnn_output)\n",
    "rnn_model = Model(inputs=input_layer, outputs=output_layer)\n",
    "rnn_model.compile(optimizer='adam', loss='mean_squared_error')\n",
    "rnn_model.fit(X_train, y_train, epochs=epochs, batch_size=batch_size)\n",
    "\n",
    "rnn_end = time.time()\n",
    "rnn_time = rnn_end - rnn_start"
   ]
  },
  {
   "cell_type": "code",
   "execution_count": 149,
   "metadata": {},
   "outputs": [
    {
     "name": "stdout",
     "output_type": "stream",
     "text": [
      "\n",
      "14.819612503051758s\n"
     ]
    }
   ],
   "source": [
    "print('\\n'+str(rnn_time)+'s')"
   ]
  },
  {
   "cell_type": "code",
   "execution_count": 150,
   "metadata": {},
   "outputs": [
    {
     "name": "stdout",
     "output_type": "stream",
     "text": [
      "_________________________________________________________________\n",
      "Layer (type)                 Output Shape              Param #   \n",
      "=================================================================\n",
      "input_16 (InputLayer)        (None, 50, 7)             0         \n",
      "_________________________________________________________________\n",
      "simple_rnn_6 (SimpleRNN)     (None, 30)                1140      \n",
      "_________________________________________________________________\n",
      "dense_39 (Dense)             (None, 1)                 31        \n",
      "=================================================================\n",
      "Total params: 1,171\n",
      "Trainable params: 1,171\n",
      "Non-trainable params: 0\n",
      "_________________________________________________________________\n"
     ]
    }
   ],
   "source": [
    "rnn_model.summary()"
   ]
  },
  {
   "cell_type": "code",
   "execution_count": 154,
   "metadata": {},
   "outputs": [],
   "source": [
    "rnn_predict = rnn_model.predict(X_test)\n",
    "scaler.fit_transform(pd.DataFrame(sp['Close'].values))\n",
    "\n",
    "# denormalization\n",
    "rnn_predict = scaler.inverse_transform(rnn_predict)\n",
    "\n",
    "y_test = scaler.inverse_transform([y_test])"
   ]
  },
  {
   "cell_type": "code",
   "execution_count": 152,
   "metadata": {},
   "outputs": [
    {
     "data": {
      "image/png": "[encoded data removed]",
      "text/plain": [
       "<Figure size 720x576 with 1 Axes>"
      ]
     },
     "metadata": {
      "needs_background": "light"
     },
     "output_type": "display_data"
    }
   ],
   "source": [
    "plt.figure(figsize=(10,8))\n",
    "rnn_plot = {\n",
    "    \n",
    "    'Predictions': rnn_predict.reshape(1,-1)[0],\n",
    "    'Close': y_test[0]\n",
    "}\n",
    "\n",
    "rnn_pd = pd.DataFrame(rnn_plot)\n",
    "\n",
    "x = sp500['Date'][3860:]\n",
    "plt.plot(x, rnn_pd['Close'], label=\"Real Closing Price\")\n",
    "plt.plot(x, rnn_pd['Predictions'], label=\"Predicted Closing Price\")\n",
    "plt.yticks([i * 100 for i in range(15,35,5)])\n",
    "\n",
    "plt.legend(loc='upper left', bbox_to_anchor=(0.05, 0.95))\n",
    "# plt.plot(sp500['Date'][3860:],rnn_pd[['Close', 'Predictions']])\n",
    "plt.savefig('sp_rnn.png', transparent=True, dpi=100)\n",
    "\n",
    "plt.show()"
   ]
  },
  {
   "cell_type": "code",
   "execution_count": 162,
   "metadata": {},
   "outputs": [
    {
     "name": "stdout",
     "output_type": "stream",
     "text": [
      "Epoch 1/15\n",
      "3760/3760 [==============================] - 5s 1ms/step - loss: 0.0073\n",
      "Epoch 2/15\n",
      "3760/3760 [==============================] - 3s 878us/step - loss: 1.2048e-04\n",
      "Epoch 3/15\n",
      "3760/3760 [==============================] - 3s 885us/step - loss: 1.0397e-04\n",
      "Epoch 4/15\n",
      "3760/3760 [==============================] - 3s 899us/step - loss: 8.9227e-05\n",
      "Epoch 5/15\n",
      "3760/3760 [==============================] - 3s 891us/step - loss: 7.8317e-05\n",
      "Epoch 6/15\n",
      "3760/3760 [==============================] - 3s 876us/step - loss: 6.8497e-05\n",
      "Epoch 7/15\n",
      "3760/3760 [==============================] - 3s 880us/step - loss: 5.9971e-05\n",
      "Epoch 8/15\n",
      "3760/3760 [==============================] - 4s 1ms/step - loss: 5.6353e-05\n",
      "Epoch 9/15\n",
      "3760/3760 [==============================] - 4s 1ms/step - loss: 5.4872e-05\n",
      "Epoch 10/15\n",
      "3760/3760 [==============================] - 5s 1ms/step - loss: 5.4030e-05\n",
      "Epoch 11/15\n",
      "3760/3760 [==============================] - 5s 1ms/step - loss: 5.2719e-05\n",
      "Epoch 12/15\n",
      "3760/3760 [==============================] - 4s 1ms/step - loss: 5.3468e-05\n",
      "Epoch 13/15\n",
      "3760/3760 [==============================] - 5s 1ms/step - loss: 4.9328e-05\n",
      "Epoch 14/15\n",
      "3760/3760 [==============================] - 5s 1ms/step - loss: 5.2191e-05\n",
      "Epoch 15/15\n",
      "3760/3760 [==============================] - 5s 1ms/step - loss: 4.8244e-05\n",
      "\n",
      "61.93361783027649s\n"
     ]
    }
   ],
   "source": [
    "'''LSTM'''\n",
    "lstm_start = time.time()\n",
    "\n",
    "input_layer = Input(shape=(timesteps, input_dim))\n",
    "lstm_output = LSTM(units, activation='relu')(input_layer)\n",
    "output_layer = Dense(output_dim)(lstm_output)\n",
    "output_layer = Dense(output_dim)(lstm_output)\n",
    "lstm_model = Model(inputs=input_layer,outputs=output_layer)\n",
    "lstm_model.compile(optimizer='adam', loss='mean_squared_error')\n",
    "lstm_model.fit(X_train, y_train, epochs=epochs, batch_size=batch_size)\n",
    "\n",
    "lstm_end = time.time()\n",
    "lstm_time = lstm_end - lstm_start\n",
    "print('\\n'+str(lstm_time)+'s')"
   ]
  },
  {
   "cell_type": "code",
   "execution_count": 163,
   "metadata": {},
   "outputs": [],
   "source": [
    "lstm_predict = lstm_model.predict(X_test)\n",
    "\n",
    "# denormalization\n",
    "lstm_predict = scaler.inverse_transform(lstm_predict)"
   ]
  },
  {
   "cell_type": "code",
   "execution_count": 164,
   "metadata": {},
   "outputs": [
    {
     "data": {
      "image/png": "[encoded data removed]",
      "text/plain": [
       "<Figure size 720x576 with 1 Axes>"
      ]
     },
     "metadata": {
      "needs_background": "light"
     },
     "output_type": "display_data"
    }
   ],
   "source": [
    "plt.figure(figsize=(10,8))\n",
    "lstm_plot = {\n",
    "    \n",
    "    'Predictions': lstm_predict.reshape(1,-1)[0],\n",
    "    'Close': y_test[0]\n",
    "}\n",
    "\n",
    "lstm_pd = pd.DataFrame(lstm_plot)\n",
    "\n",
    "x = sp500['Date'][3860:]\n",
    "plt.plot(x, lstm_pd['Close'], label=\"Real Closing Price\")\n",
    "plt.plot(x, lstm_pd['Predictions'], label=\"Predicted Closing Price\")\n",
    "plt.legend(loc='upper left', bbox_to_anchor=(0.05, 0.95))\n",
    "plt.yticks([i * 100 for i in range(15,35,5)])\n",
    "\n",
    "plt.savefig('sp_lstm.png', transparent=True, dpi=200)\n",
    "\n",
    "plt.show()"
   ]
  },
  {
   "cell_type": "code",
   "execution_count": 157,
   "metadata": {},
   "outputs": [],
   "source": [
    "from keras.layers import Conv1D, Conv2D, Flatten, concatenate, MaxPooling1D, MaxPooling2D, Bidirectional, MaxPooling2D, TimeDistributed\n",
    "# Combined Model: CNN + LSTM\n",
    "\n",
    "'''combined model'''\n",
    "combined_start = time.time()\n",
    "\n",
    "combined_model = Sequential()\n",
    "\n",
    "'''cnn'''\n",
    "combined_model.add(TimeDistributed(Conv1D(filters = 20, kernel_size = (2,), activation = 'tanh'),input_shape=(timesteps,input_dim, 1)))\n",
    "combined_model.add(TimeDistributed(Flatten()))\n",
    "combined_model.add(Dense(64, activation='relu'))\n",
    "\n",
    "'''lstm'''\n",
    "combined_model.add(LSTM(units, activation='relu'))\n",
    "combined_model.add(Dense(output_dim))\n",
    "combined_model.compile(optimizer='adam', loss='mean_squared_error')"
   ]
  },
  {
   "cell_type": "code",
   "execution_count": 158,
   "metadata": {},
   "outputs": [
    {
     "name": "stdout",
     "output_type": "stream",
     "text": [
      "_________________________________________________________________\n",
      "Layer (type)                 Output Shape              Param #   \n",
      "=================================================================\n",
      "time_distributed_19 (TimeDis (None, 50, 6, 20)         60        \n",
      "_________________________________________________________________\n",
      "time_distributed_20 (TimeDis (None, 50, 120)           0         \n",
      "_________________________________________________________________\n",
      "dense_43 (Dense)             (None, 50, 64)            7744      \n",
      "_________________________________________________________________\n",
      "lstm_21 (LSTM)               (None, 30)                11400     \n",
      "_________________________________________________________________\n",
      "dense_44 (Dense)             (None, 1)                 31        \n",
      "=================================================================\n",
      "Total params: 19,235\n",
      "Trainable params: 19,235\n",
      "Non-trainable params: 0\n",
      "_________________________________________________________________\n"
     ]
    }
   ],
   "source": [
    "combined_model.summary()"
   ]
  },
  {
   "cell_type": "code",
   "execution_count": 159,
   "metadata": {},
   "outputs": [
    {
     "name": "stdout",
     "output_type": "stream",
     "text": [
      "Epoch 1/15\n",
      "3760/3760 [==============================] - 7s 2ms/step - loss: 9.4610e-04\n",
      "Epoch 2/15\n",
      "3760/3760 [==============================] - 6s 2ms/step - loss: 9.2518e-05\n",
      "Epoch 3/15\n",
      "3760/3760 [==============================] - 7s 2ms/step - loss: 8.1818e-05\n",
      "Epoch 4/15\n",
      "3760/3760 [==============================] - 7s 2ms/step - loss: 6.7537e-05\n",
      "Epoch 5/15\n",
      "3760/3760 [==============================] - 7s 2ms/step - loss: 5.6480e-05\n",
      "Epoch 6/15\n",
      "3760/3760 [==============================] - 6s 2ms/step - loss: 6.2506e-05\n",
      "Epoch 7/15\n",
      "3760/3760 [==============================] - 7s 2ms/step - loss: 5.2573e-05\n",
      "Epoch 8/15\n",
      "3760/3760 [==============================] - 6s 2ms/step - loss: 5.3126e-05\n",
      "Epoch 9/15\n",
      "3760/3760 [==============================] - 6s 2ms/step - loss: 4.8624e-05\n",
      "Epoch 10/15\n",
      "3760/3760 [==============================] - 7s 2ms/step - loss: 5.5338e-05\n",
      "Epoch 11/15\n",
      "3760/3760 [==============================] - 7s 2ms/step - loss: 5.4150e-05\n",
      "Epoch 12/15\n",
      "3760/3760 [==============================] - 6s 2ms/step - loss: 6.4949e-05\n",
      "Epoch 13/15\n",
      "3760/3760 [==============================] - 6s 2ms/step - loss: 4.8610e-05A: 0s - los\n",
      "Epoch 14/15\n",
      "3760/3760 [==============================] - 6s 2ms/step - loss: 4.8953e-05\n",
      "Epoch 15/15\n",
      "3760/3760 [==============================] - 6s 2ms/step - loss: 5.4179e-05\n",
      "\n",
      "100.23919177055359s\n"
     ]
    }
   ],
   "source": [
    "X_train_r = X_train.reshape((-1,timesteps,input_dim,1))\n",
    "combined_model.fit(X_train_r, y_train, epochs=epochs, batch_size=batch_size)\n",
    "\n",
    "combined_end = time.time()\n",
    "combined_time = combined_end - combined_start\n",
    "print('\\n'+str(combined_time)+'s')"
   ]
  },
  {
   "cell_type": "code",
   "execution_count": 160,
   "metadata": {},
   "outputs": [
    {
     "name": "stdout",
     "output_type": "stream",
     "text": [
      "(904, 1)\n"
     ]
    }
   ],
   "source": [
    "X_test_r = X_test.reshape((-1,timesteps,input_dim,1))\n",
    "combined_predict = combined_model.predict(X_test_r)\n",
    "\n",
    "print(combined_predict.shape)\n",
    "# denormalization\n",
    "\n",
    "combined_predict = scaler.inverse_transform(combined_predict)"
   ]
  },
  {
   "cell_type": "code",
   "execution_count": 161,
   "metadata": {},
   "outputs": [
    {
     "data": {
      "image/png": "[encoded data removed]",
      "text/plain": [
       "<Figure size 720x576 with 1 Axes>"
      ]
     },
     "metadata": {
      "needs_background": "light"
     },
     "output_type": "display_data"
    }
   ],
   "source": [
    "plt.figure(figsize=(10,8))\n",
    "combined_plot = {\n",
    "    \n",
    "    # transform the data shape into (736,1)\n",
    "    'Predictions': combined_predict.reshape(1,-1)[0],\n",
    "    'Close': y_test[0]\n",
    "}\n",
    "\n",
    "combined_pd = pd.DataFrame(combined_plot)\n",
    "\n",
    "x = sp500['Date'][3860:]\n",
    "plt.plot(x, combined_pd['Close'], label=\"Real Closing Price\")\n",
    "plt.plot(x, combined_pd['Predictions'], label=\"Predicted Closing Price\")\n",
    "plt.legend(loc='upper left', bbox_to_anchor=(0.05, 0.95))\n",
    "plt.yticks([i * 100 for i in range(15,35,5)])\n",
    "\n",
    "plt.savefig('sp_combined.png', transparent=True, dpi=100)\n",
    "\n",
    "plt.show()"
   ]
  },
  {
   "cell_type": "code",
   "execution_count": 165,
   "metadata": {},
   "outputs": [
    {
     "data": {
      "text/html": [
       "<div>\n",
       "<style scoped>\n",
       "    .dataframe tbody tr th:only-of-type {\n",
       "        vertical-align: middle;\n",
       "    }\n",
       "\n",
       "    .dataframe tbody tr th {\n",
       "        vertical-align: top;\n",
       "    }\n",
       "\n",
       "    .dataframe thead th {\n",
       "        text-align: right;\n",
       "    }\n",
       "</style>\n",
       "<table border=\"1\" class=\"dataframe\">\n",
       "  <thead>\n",
       "    <tr style=\"text-align: right;\">\n",
       "      <th></th>\n",
       "      <th>MAE</th>\n",
       "      <th>MAPE</th>\n",
       "      <th>RMSE</th>\n",
       "    </tr>\n",
       "  </thead>\n",
       "  <tbody>\n",
       "    <tr>\n",
       "      <th>RNN model</th>\n",
       "      <td>20.657306</td>\n",
       "      <td>0.86%</td>\n",
       "      <td>26.504001</td>\n",
       "    </tr>\n",
       "    <tr>\n",
       "      <th>LSTM model</th>\n",
       "      <td>18.525207</td>\n",
       "      <td>0.79%</td>\n",
       "      <td>25.275999</td>\n",
       "    </tr>\n",
       "    <tr>\n",
       "      <th>CNN+LSTM model</th>\n",
       "      <td>18.879683</td>\n",
       "      <td>0.77%</td>\n",
       "      <td>28.702764</td>\n",
       "    </tr>\n",
       "  </tbody>\n",
       "</table>\n",
       "</div>"
      ],
      "text/plain": [
       "                      MAE   MAPE       RMSE\n",
       "RNN model       20.657306  0.86%  26.504001\n",
       "LSTM model      18.525207  0.79%  25.275999\n",
       "CNN+LSTM model  18.879683  0.77%  28.702764"
      ]
     },
     "execution_count": 165,
     "metadata": {},
     "output_type": "execute_result"
    }
   ],
   "source": [
    "'''Evaluation'''\n",
    "# MSE：\n",
    "from sklearn.metrics import mean_squared_error\n",
    "from sklearn.metrics import mean_absolute_error\n",
    "# from sklearn.metrics import mean_absolute_percentage_error\n",
    "\n",
    "rnn_rmse = np.sqrt(mean_squared_error(y_test[0], rnn_predict[:,0]))\n",
    "lstm_rmse = np.sqrt(mean_squared_error(y_test[0], lstm_predict[:,0]))\n",
    "combined_rmse = np.sqrt(mean_squared_error(y_test[0], combined_predict[:,0]))\n",
    "\n",
    "rnn_mae = mean_absolute_error(y_test[0], rnn_predict[:,0])\n",
    "lstm_mae = mean_absolute_error(y_test[0], lstm_predict[:,0])\n",
    "combined_mae = mean_absolute_error(y_test[0], combined_predict[:,0])\n",
    "\n",
    "def mape(y_pred, y_true):\n",
    "    return np.mean(np.abs((y_pred - y_true) / y_true)) \n",
    "\n",
    "\n",
    "rnn_mape = mape(rnn_predict[:,0], y_test[0])\n",
    "lstm_mape = mape(lstm_predict[:,0], y_test[0])\n",
    "combined_mape = mape(combined_predict[:,0], y_test[0])\n",
    "\n",
    "pd.DataFrame.from_records([[rnn_mae, \"{:.2%}\".format(rnn_mape), rnn_rmse], [lstm_mae, \"{:.2%}\".format(lstm_mape), lstm_rmse],\n",
    "                           [combined_mae, \"{:.2%}\".format(combined_mape), combined_rmse]], \n",
    "                          columns=['MAE', 'MAPE', 'RMSE'], \n",
    "                          index=['RNN model', 'LSTM model', 'CNN+LSTM model'])"
   ]
  }
 ],
 "metadata": {
  "kernelspec": {
   "display_name": "Python 3",
   "language": "python",
   "name": "python3"
  },
  "language_info": {
   "codemirror_mode": {
    "name": "ipython",
    "version": 3
   },
   "file_extension": ".py",
   "mimetype": "text/x-python",
   "name": "python",
   "nbconvert_exporter": "python",
   "pygments_lexer": "ipython3",
   "version": "3.6.12"
  }
 },
 "nbformat": 4,
 "nbformat_minor": 4
}
